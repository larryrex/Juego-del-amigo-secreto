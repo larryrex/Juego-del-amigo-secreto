{
  "nbformat": 4,
  "nbformat_minor": 0,
  "metadata": {
    "colab": {
      "provenance": [],
      "include_colab_link": true
    },
    "kernelspec": {
      "name": "python3",
      "display_name": "Python 3"
    },
    "language_info": {
      "name": "python"
    }
  },
  "cells": [
    {
      "cell_type": "markdown",
      "metadata": {
        "id": "view-in-github",
        "colab_type": "text"
      },
      "source": [
        "<a href=\"https://colab.research.google.com/github/larryrex/Juego-del-amigo-secreto/blob/main/Python_Data_Science.ipynb\" target=\"_parent\"><img src=\"https://colab.research.google.com/assets/colab-badge.svg\" alt=\"Open In Colab\"/></a>"
      ]
    },
    {
      "cell_type": "markdown",
      "source": [
        "# Python para Data Science\n",
        "\n",
        "Notebook para el curso de Python para Data Science publicado en la plataforma de [Alura Latam](https://www.aluracursos.com/)"
      ],
      "metadata": {
        "id": "lQx6Mmv0OJyT"
      }
    },
    {
      "cell_type": "markdown",
      "source": [
        "# Introducción a Python\n",
        "¡Vamos a conocer Python, nuestro ambiente de estudio, y también generaremos nuestro primer código en este lenguaje!"
      ],
      "metadata": {
        "id": "7SiB6JIpYKmY"
      }
    },
    {
      "cell_type": "markdown",
      "source": [
        "## Google Colaboratory\n",
        "\n",
        "Ya aprendimos qué es [Python](https://www.python.org/) y ahora aprenderemos a usar nuestra herramienta de ejecución [Google Colaboratory](https://colab.research.google.com/) para programar en un notebook interactivo.\n",
        "\n",
        "Vamos a probar algunas funciones de este ambiente."
      ],
      "metadata": {
        "id": "Yugfb3fCOYY9"
      }
    },
    {
      "cell_type": "markdown",
      "source": [
        " **`>>> Usa esta celda para mover <<<`**"
      ],
      "metadata": {
        "id": "2iUHQsJasJAk"
      }
    },
    {
      "cell_type": "code",
      "source": [],
      "metadata": {
        "id": "o7jrX_iKhdkU"
      },
      "execution_count": null,
      "outputs": []
    },
    {
      "cell_type": "markdown",
      "source": [
        "## ¡Hola mundo!\n",
        "\n",
        "Vamos a conocer un poco más de cerca nuestro notebook. Para ello ejecutaremos nuestro primer comando en Python: [`print()`](https://docs.python.org/3/library/functions.html#print)"
      ],
      "metadata": {
        "id": "aLSFP2V7XTfe"
      }
    },
    {
      "cell_type": "code",
      "source": [
        "print(\"!Hola Mundo¡\")"
      ],
      "metadata": {
        "id": "0qZX8_ZQBYyk",
        "outputId": "7a10b295-bad7-475d-ea1b-4738d2fcd878",
        "colab": {
          "base_uri": "https://localhost:8080/"
        }
      },
      "execution_count": 1,
      "outputs": [
        {
          "output_type": "stream",
          "name": "stdout",
          "text": [
            "!Hola Mundo¡\n"
          ]
        }
      ]
    },
    {
      "cell_type": "code",
      "source": [],
      "metadata": {
        "id": "XaVXovhE2_tN"
      },
      "execution_count": null,
      "outputs": []
    },
    {
      "cell_type": "code",
      "source": [
        "15"
      ],
      "metadata": {
        "id": "GLMzF_AKBY7a",
        "outputId": "fb1735dd-1502-4e50-f230-9f4b64111923",
        "colab": {
          "base_uri": "https://localhost:8080/"
        }
      },
      "execution_count": 7,
      "outputs": [
        {
          "output_type": "execute_result",
          "data": {
            "text/plain": [
              "15"
            ]
          },
          "metadata": {},
          "execution_count": 7
        }
      ]
    },
    {
      "cell_type": "code",
      "source": [
        "print(\"Mi nombre es Hector y tengo 31\")"
      ],
      "metadata": {
        "id": "h0_AL5QC3D_X",
        "outputId": "71cb8eb9-2c9c-45e4-9282-99e2704578c1",
        "colab": {
          "base_uri": "https://localhost:8080/"
        }
      },
      "execution_count": 10,
      "outputs": [
        {
          "output_type": "stream",
          "name": "stdout",
          "text": [
            "Mi nombre es Hector y tengo 31\n"
          ]
        }
      ]
    },
    {
      "cell_type": "markdown",
      "source": [
        "# Manipulando los datos\n",
        "\n",
        "Vamos a aprender sobre las variables en Python, cómo declararlas y utilizarlas además de conocer otros comandos de este lenguaje. :D"
      ],
      "metadata": {
        "id": "iP8uWQmFYFRs"
      }
    },
    {
      "cell_type": "markdown",
      "source": [
        "## Variables\n",
        "\n",
        "En Data Science trabajamos con varios tipos de datos e informaciones, entonces es esencial saber cómo trabajar con las variables."
      ],
      "metadata": {
        "id": "sLNVmnTbag1Z"
      }
    },
    {
      "cell_type": "markdown",
      "source": [
        "Las variables en Python se crean cuando atribuimos un valor a ella.\n",
        "\n",
        "Para esto, colocamos el nombre de la variable, el signo de igual (`=`) y el valor que queremos atribuirle."
      ],
      "metadata": {
        "id": "lsCY0wahAbf6"
      }
    },
    {
      "cell_type": "code",
      "source": [
        "5"
      ],
      "metadata": {
        "id": "vsHh5buZADND",
        "outputId": "29e689b0-106a-453f-dd32-4940895219a1",
        "colab": {
          "base_uri": "https://localhost:8080/"
        }
      },
      "execution_count": 11,
      "outputs": [
        {
          "output_type": "execute_result",
          "data": {
            "text/plain": [
              "5"
            ]
          },
          "metadata": {},
          "execution_count": 11
        }
      ]
    },
    {
      "cell_type": "code",
      "source": [
        "id(5)"
      ],
      "metadata": {
        "id": "sivPtqSjADQV",
        "outputId": "3f95aac6-45c2-43a6-e8db-6c85a3b5ce88",
        "colab": {
          "base_uri": "https://localhost:8080/"
        }
      },
      "execution_count": 19,
      "outputs": [
        {
          "output_type": "execute_result",
          "data": {
            "text/plain": [
              "10750984"
            ]
          },
          "metadata": {},
          "execution_count": 19
        }
      ]
    },
    {
      "cell_type": "code",
      "source": [
        "edad = 5"
      ],
      "metadata": {
        "id": "EhglN4CO_WxL"
      },
      "execution_count": 20,
      "outputs": []
    },
    {
      "cell_type": "code",
      "source": [
        "print(id(edad))\n",
        "print(id(5))"
      ],
      "metadata": {
        "id": "YTvvuuILASiV",
        "outputId": "ea5a1e62-b747-4f1b-e2e2-1933af4a9827",
        "colab": {
          "base_uri": "https://localhost:8080/"
        }
      },
      "execution_count": 21,
      "outputs": [
        {
          "output_type": "stream",
          "name": "stdout",
          "text": [
            "10750984\n",
            "10750984\n"
          ]
        }
      ]
    },
    {
      "cell_type": "code",
      "source": [
        "numerocinco = 5"
      ],
      "metadata": {
        "id": "n9HCTMcIATgz"
      },
      "execution_count": 22,
      "outputs": []
    },
    {
      "cell_type": "code",
      "source": [
        "id(numerocinco)"
      ],
      "metadata": {
        "id": "FASGcCWqAjKt",
        "outputId": "7127c1a8-8e96-404f-ef2f-904261e260f6",
        "colab": {
          "base_uri": "https://localhost:8080/"
        }
      },
      "execution_count": 23,
      "outputs": [
        {
          "output_type": "execute_result",
          "data": {
            "text/plain": [
              "10750984"
            ]
          },
          "metadata": {},
          "execution_count": 23
        }
      ]
    },
    {
      "cell_type": "code",
      "source": [
        "nombre = \"hector\""
      ],
      "metadata": {
        "id": "VSbrMwcVAzNg"
      },
      "execution_count": null,
      "outputs": []
    },
    {
      "cell_type": "code",
      "source": [
        "id(\"hector\")"
      ],
      "metadata": {
        "id": "_7OMhR0hA2Bh",
        "outputId": "3f2a55cd-43d7-4cdb-b35c-2577d5ccdb2c",
        "colab": {
          "base_uri": "https://localhost:8080/"
        }
      },
      "execution_count": 24,
      "outputs": [
        {
          "output_type": "execute_result",
          "data": {
            "text/plain": [
              "138210678552176"
            ]
          },
          "metadata": {},
          "execution_count": 24
        }
      ]
    },
    {
      "cell_type": "markdown",
      "source": [
        "## Tipos de variables\n",
        "\n",
        "Cada variable contiene una clase específica con respecto al tipo de objeto al cual esta hace referencia. Estas clases serán diferentes de acuerdo con el tipo de dato que le sea atribuido a una variable.\n",
        "\n",
        "Para conocer la clase de cada elemento usamos la función [`type()`](https://docs.python.org/3/library/functions.html#type)"
      ],
      "metadata": {
        "id": "UqhzuBhBHsps"
      }
    },
    {
      "cell_type": "code",
      "source": [
        "edad = 5"
      ],
      "metadata": {
        "id": "J5a9t73A_-PX"
      },
      "execution_count": 25,
      "outputs": []
    },
    {
      "cell_type": "code",
      "source": [
        "type(edad)"
      ],
      "metadata": {
        "id": "rqmO1ew-_-So",
        "outputId": "80ddc597-b8ba-44e3-b6f7-11cf536740a9",
        "colab": {
          "base_uri": "https://localhost:8080/"
        }
      },
      "execution_count": 26,
      "outputs": [
        {
          "output_type": "execute_result",
          "data": {
            "text/plain": [
              "int"
            ]
          },
          "metadata": {},
          "execution_count": 26
        }
      ]
    },
    {
      "cell_type": "code",
      "source": [
        "promedio = 9.5\n",
        "type(promedio)"
      ],
      "metadata": {
        "id": "xkrPMkeY_-cP",
        "outputId": "005847fd-e9ef-46f2-d7c2-be2871fb372b",
        "colab": {
          "base_uri": "https://localhost:8080/"
        }
      },
      "execution_count": 27,
      "outputs": [
        {
          "output_type": "execute_result",
          "data": {
            "text/plain": [
              "float"
            ]
          },
          "metadata": {},
          "execution_count": 27
        }
      ]
    },
    {
      "cell_type": "code",
      "source": [
        "nombre = \"hector\"\n",
        "type(\"hector\")"
      ],
      "metadata": {
        "id": "Tl7VAfHEDcTF",
        "outputId": "157f8b2a-9adf-4172-ed7d-c554c92c7fbc",
        "colab": {
          "base_uri": "https://localhost:8080/"
        }
      },
      "execution_count": 28,
      "outputs": [
        {
          "output_type": "execute_result",
          "data": {
            "text/plain": [
              "str"
            ]
          },
          "metadata": {},
          "execution_count": 28
        }
      ]
    },
    {
      "cell_type": "code",
      "source": [
        "v = True\n",
        "type(v)"
      ],
      "metadata": {
        "id": "FHnvdWTwDrTQ",
        "outputId": "8cdd07bb-25f1-4dd8-873e-577091f0890d",
        "colab": {
          "base_uri": "https://localhost:8080/"
        }
      },
      "execution_count": 29,
      "outputs": [
        {
          "output_type": "execute_result",
          "data": {
            "text/plain": [
              "bool"
            ]
          },
          "metadata": {},
          "execution_count": 29
        }
      ]
    },
    {
      "cell_type": "code",
      "source": [],
      "metadata": {
        "id": "LIh6IxdtDc45"
      },
      "execution_count": null,
      "outputs": []
    },
    {
      "cell_type": "markdown",
      "source": [
        "En un conjunto de datos escolares podemos tener varios tipos de informaciones. Supongamos que tenemos acceso a la ficha de datos del alumno *Penélope Camacho*, cómo transformamos este nombre en variables de Python?\n",
        "\n",
        "#### Ficha:\n",
        "\n",
        "- Nombre: Penélope Camacho\n",
        "- Edad: 11 años\n",
        "- Promedio del semestre: 9,75\n",
        "- Situación de aprobación: Verdadera (aprobado)"
      ],
      "metadata": {
        "id": "O-FxDumfWu0C"
      }
    },
    {
      "cell_type": "code",
      "source": [
        "nombre_estudiante = \"Penelope camacho\"\n",
        "edad_estudiante = 11\n",
        "promedio_estudiante = 9.75\n",
        "aprobado = True\n",
        "\n",
        "print(nombre_estudiante,edad_estudiante,promedio_estudiante,aprobado)"
      ],
      "metadata": {
        "id": "FabQ7jQf_8Xt",
        "colab": {
          "base_uri": "https://localhost:8080/"
        },
        "outputId": "d95da603-9755-40a7-98bc-96b26c07186c"
      },
      "execution_count": 30,
      "outputs": [
        {
          "output_type": "stream",
          "name": "stdout",
          "text": [
            "Penelope camacho 11 9.75 True\n"
          ]
        }
      ]
    },
    {
      "cell_type": "code",
      "source": [
        "print(type(nombre_estudiante),type(edad_estudiante),type(promedio_estudiante),type(aprobado))"
      ],
      "metadata": {
        "id": "IZLQnZUj_8bd",
        "outputId": "90d67dc8-5908-43e9-e800-c22fa3c465bb",
        "colab": {
          "base_uri": "https://localhost:8080/"
        }
      },
      "execution_count": 31,
      "outputs": [
        {
          "output_type": "stream",
          "name": "stdout",
          "text": [
            "<class 'str'> <class 'int'> <class 'float'> <class 'bool'>\n"
          ]
        }
      ]
    },
    {
      "cell_type": "markdown",
      "source": [],
      "metadata": {
        "id": "6q94feAUFGjA"
      }
    },
    {
      "cell_type": "code",
      "source": [],
      "metadata": {
        "id": "OEAeOuy8E6Ck"
      },
      "execution_count": null,
      "outputs": []
    },
    {
      "cell_type": "markdown",
      "source": [
        "## Variables numéricas\n",
        "\n",
        "Entre los tipos de datos numéricos vamos a enfocarnos en los tipos `entero` y `float`."
      ],
      "metadata": {
        "id": "KFq_8Sxf-OG0"
      }
    },
    {
      "cell_type": "markdown",
      "source": [
        "Tenemos una tabla de información sobre los diversos cargos, cantidad de personas empleadas y el salario correspondiente:\n",
        "\n",
        "|Cargo | Cantidad | Salario|\n",
        "|---|---|---|\n",
        "|Vigilante | 5 | 300 |\n",
        "|Docente | 16| 500|\n",
        "|Coordinador| 2 |600|\n",
        "\n",
        "Necesitamos trabajar con estos datos para obtener:\n",
        "\n",
        "- La cantidad total de empleados;\n",
        "- La diferencia entre el salario más bajo y más alto; y\n",
        "- El promedio ponderado de los salarios de los empleados de la escuela."
      ],
      "metadata": {
        "id": "8_HYUbkVYdQY"
      }
    },
    {
      "cell_type": "code",
      "source": [
        "c_vigilantes = 5\n",
        "s_vigilantes = 300\n",
        "\n",
        "c_docente = 16\n",
        "s_docente = 500\n",
        "\n",
        "c_coordinador = 2\n",
        "s_coordinador = 600\n"
      ],
      "metadata": {
        "id": "F_X-wxdm_5Ys"
      },
      "execution_count": 33,
      "outputs": []
    },
    {
      "cell_type": "markdown",
      "source": [],
      "metadata": {
        "id": "0tafHd5gGrCI"
      }
    },
    {
      "cell_type": "code",
      "source": [
        "total_empleados = c_vigilantes + c_docente + c_coordinador\n",
        "total_empleados"
      ],
      "metadata": {
        "id": "gKmBbhII_5b9",
        "outputId": "866bc210-217e-4ca5-c44a-0f7798f4f2ec",
        "colab": {
          "base_uri": "https://localhost:8080/"
        }
      },
      "execution_count": 35,
      "outputs": [
        {
          "output_type": "execute_result",
          "data": {
            "text/plain": [
              "23"
            ]
          },
          "metadata": {},
          "execution_count": 35
        }
      ]
    },
    {
      "cell_type": "code",
      "source": [
        "diferencia_salario = s_coordinador- s_vigilantes\n",
        "diferencia_salario"
      ],
      "metadata": {
        "id": "fIugsxNy_53j",
        "outputId": "a8a40d86-dc2a-444e-ba64-bf34e7de8b82",
        "colab": {
          "base_uri": "https://localhost:8080/"
        }
      },
      "execution_count": 37,
      "outputs": [
        {
          "output_type": "execute_result",
          "data": {
            "text/plain": [
              "300"
            ]
          },
          "metadata": {},
          "execution_count": 37
        }
      ]
    },
    {
      "cell_type": "code",
      "source": [
        "promedio_salarios = (c_vigilantes*s_vigilantes + c_docente*s_docente + c_coordinador*s_coordinador)/total_empleados\n",
        "promedio_salarios"
      ],
      "metadata": {
        "id": "fpDuYUZxG_TW",
        "outputId": "53561e94-2526-492d-d596-c1bb36edb72e",
        "colab": {
          "base_uri": "https://localhost:8080/"
        }
      },
      "execution_count": 38,
      "outputs": [
        {
          "output_type": "execute_result",
          "data": {
            "text/plain": [
              "465.2173913043478"
            ]
          },
          "metadata": {},
          "execution_count": 38
        }
      ]
    },
    {
      "cell_type": "code",
      "source": [
        "type(promedio_salarios)"
      ],
      "metadata": {
        "id": "q6MqYApfG_dr",
        "outputId": "1178e462-3ae0-4890-f7b8-06f1553c693b",
        "colab": {
          "base_uri": "https://localhost:8080/"
        }
      },
      "execution_count": 39,
      "outputs": [
        {
          "output_type": "execute_result",
          "data": {
            "text/plain": [
              "float"
            ]
          },
          "metadata": {},
          "execution_count": 39
        }
      ]
    },
    {
      "cell_type": "markdown",
      "source": [
        "## Strings"
      ],
      "metadata": {
        "id": "yQy7b0ZWoD-P"
      }
    },
    {
      "cell_type": "markdown",
      "source": [
        "Strings hace referencia a un conjunto de caracteres formando un texto.\n",
        "\n",
        "Podemos crear Strings cuando atribuimos un dato a una variable entre comillas sencillas (`'`) o comillas dobles (`\"`)."
      ],
      "metadata": {
        "id": "vlo2-DXusv3s"
      }
    },
    {
      "cell_type": "code",
      "source": [
        "t =\"alura\"\n",
        "type(t)"
      ],
      "metadata": {
        "id": "ityEWqvh_2wK",
        "outputId": "2740bf17-0d94-46cf-b473-2003d79b2afa",
        "colab": {
          "base_uri": "https://localhost:8080/"
        }
      },
      "execution_count": 40,
      "outputs": [
        {
          "output_type": "execute_result",
          "data": {
            "text/plain": [
              "str"
            ]
          },
          "metadata": {},
          "execution_count": 40
        }
      ]
    },
    {
      "cell_type": "code",
      "source": [],
      "metadata": {
        "id": "mK8nLRiTXAvX"
      },
      "execution_count": null,
      "outputs": []
    },
    {
      "cell_type": "markdown",
      "source": [
        "Las variables textuales son objetos que poseen métodos que nos ayudan a formatear strings. Los métodos los podemos ejecutar al definir un objeto de acuerdo con la siguiente estructura:\n",
        "\n",
        "```\n",
        "objeto.metodo()\n",
        "```\n",
        "\n",
        "Existen métodos que no necesitan los `()`, siempre es una buena práctica verificar la documentación para cada caso."
      ],
      "metadata": {
        "id": "2e9UD_CCxqz_"
      }
    },
    {
      "cell_type": "code",
      "source": [],
      "metadata": {
        "id": "TDun0ectW_bv"
      },
      "execution_count": null,
      "outputs": []
    },
    {
      "cell_type": "markdown",
      "source": [
        "---\n",
        "**Situación:**\n",
        "\n",
        "Recibimos una variable con el nombre de una profesora de la escuela para añadirla a los registros. Sin embargo, necesitamos darle un tratamiento a este texto antes de insertarlo al sistema."
      ],
      "metadata": {
        "id": "p6aPmMGP4tf9"
      }
    },
    {
      "cell_type": "code",
      "source": [
        "texto = '  Micaela de los Sanyos '\n",
        "id(texto)"
      ],
      "metadata": {
        "id": "icDWtYTjBO0n",
        "outputId": "919f1401-a9d6-44cf-ad3b-9bac74f097c4",
        "colab": {
          "base_uri": "https://localhost:8080/"
        }
      },
      "execution_count": 41,
      "outputs": [
        {
          "output_type": "execute_result",
          "data": {
            "text/plain": [
              "138210663780064"
            ]
          },
          "metadata": {},
          "execution_count": 41
        }
      ]
    },
    {
      "cell_type": "markdown",
      "source": [
        "El objetivo final es que el nombre aparezca de la siguiente forma:\n",
        "\n",
        "```\n",
        "'MICAELA DE LOS SANTOS'\n",
        "```"
      ],
      "metadata": {
        "id": "Dg2ZXSZOGzjC"
      }
    },
    {
      "cell_type": "markdown",
      "source": [
        "### [`str.upper()` ](https://docs.python.org/3/library/stdtypes.html#str.upper)\n",
        "Convierte una string a mayúsculas."
      ],
      "metadata": {
        "id": "iVTAD8q702eN"
      }
    },
    {
      "cell_type": "code",
      "source": [
        "texto.upper()"
      ],
      "metadata": {
        "id": "wMVshJrY_ZXh",
        "outputId": "28ae20b6-39fe-4bcb-c39b-3283d65a4be5",
        "colab": {
          "base_uri": "https://localhost:8080/",
          "height": 36
        }
      },
      "execution_count": 42,
      "outputs": [
        {
          "output_type": "execute_result",
          "data": {
            "text/plain": [
              "'  MICAELA DE LOS SANYOS '"
            ],
            "application/vnd.google.colaboratory.intrinsic+json": {
              "type": "string"
            }
          },
          "metadata": {},
          "execution_count": 42
        }
      ]
    },
    {
      "cell_type": "markdown",
      "source": [
        "### [`str.lower()`](https://docs.python.org/3/library/stdtypes.html#str.lower)\n",
        "Convierte una string a minúsculas."
      ],
      "metadata": {
        "id": "hbDSBtMV1TpG"
      }
    },
    {
      "cell_type": "code",
      "source": [
        "texto.lower()"
      ],
      "metadata": {
        "id": "px3yEeNH_YK4",
        "outputId": "d125d3cf-9489-4ac8-f675-f18d055899b6",
        "colab": {
          "base_uri": "https://localhost:8080/",
          "height": 36
        }
      },
      "execution_count": 43,
      "outputs": [
        {
          "output_type": "execute_result",
          "data": {
            "text/plain": [
              "'  micaela de los sanyos '"
            ],
            "application/vnd.google.colaboratory.intrinsic+json": {
              "type": "string"
            }
          },
          "metadata": {},
          "execution_count": 43
        }
      ]
    },
    {
      "cell_type": "markdown",
      "source": [
        "### [`str.strip()`](https://docs.python.org/3/library/stdtypes.html#str.strip)\n",
        "Elimina los espacios en blanco al inicio y al final de una string."
      ],
      "metadata": {
        "id": "kz47eWM11gii"
      }
    },
    {
      "cell_type": "code",
      "source": [
        "texto.strip()"
      ],
      "metadata": {
        "id": "76dLgNa4_XAe",
        "outputId": "3937a844-b087-4148-bace-7c7d465b305a",
        "colab": {
          "base_uri": "https://localhost:8080/",
          "height": 36
        }
      },
      "execution_count": 44,
      "outputs": [
        {
          "output_type": "execute_result",
          "data": {
            "text/plain": [
              "'Micaela de los Sanyos'"
            ],
            "application/vnd.google.colaboratory.intrinsic+json": {
              "type": "string"
            }
          },
          "metadata": {},
          "execution_count": 44
        }
      ]
    },
    {
      "cell_type": "markdown",
      "source": [
        "### [`str.replace(antiguo, nuevo)`](https://docs.python.org/3/library/stdtypes.html#str.replace)\n",
        "\n",
        "Sustituye todas las ocurrencias del texto \"antiguo\" en la string por el  \"nuevo\"."
      ],
      "metadata": {
        "id": "m6notiyS1SCV"
      }
    },
    {
      "cell_type": "code",
      "source": [
        "texto.replace(\"y\",\"t\")"
      ],
      "metadata": {
        "id": "PNXAixtE_V6R",
        "outputId": "dd68dced-ef5f-407c-8364-27af318d5297",
        "colab": {
          "base_uri": "https://localhost:8080/",
          "height": 36
        }
      },
      "execution_count": 45,
      "outputs": [
        {
          "output_type": "execute_result",
          "data": {
            "text/plain": [
              "'  Micaela de los Santos '"
            ],
            "application/vnd.google.colaboratory.intrinsic+json": {
              "type": "string"
            }
          },
          "metadata": {},
          "execution_count": 45
        }
      ]
    },
    {
      "cell_type": "code",
      "source": [
        "texto"
      ],
      "metadata": {
        "id": "i8ylPMTdYSY5",
        "outputId": "6ff72eca-6d66-4d63-c7d7-0aaba3315dca",
        "colab": {
          "base_uri": "https://localhost:8080/",
          "height": 36
        }
      },
      "execution_count": 46,
      "outputs": [
        {
          "output_type": "execute_result",
          "data": {
            "text/plain": [
              "'  Micaela de los Sanyos '"
            ],
            "application/vnd.google.colaboratory.intrinsic+json": {
              "type": "string"
            }
          },
          "metadata": {},
          "execution_count": 46
        }
      ]
    },
    {
      "cell_type": "code",
      "source": [],
      "metadata": {
        "id": "I_wWU3XMYXNz"
      },
      "execution_count": null,
      "outputs": []
    },
    {
      "cell_type": "markdown",
      "source": [
        "### Observaciones\n",
        "\n",
        "1. Los métodos devuelven una **tranformación**, no son ejecutados directamente sobre la variable donde está almacenado el texto.\n",
        "\n",
        "2. Adicionalmente, podemos acumular la ejecución de los métodos."
      ],
      "metadata": {
        "id": "zukvEjhG2Rcn"
      }
    },
    {
      "cell_type": "code",
      "source": [],
      "metadata": {
        "id": "LfQtupE6YV_D"
      },
      "execution_count": null,
      "outputs": []
    },
    {
      "cell_type": "markdown",
      "source": [
        "Para que la transformación se pueda ejecutar debemos atribuir la salida de las transformaciones a las variables"
      ],
      "metadata": {
        "id": "1KbwfVut2h6I"
      }
    },
    {
      "cell_type": "code",
      "source": [
        "nuevo_texto = texto.strip().replace(\"y\",\"t\").upper()\n",
        "print(nuevo_texto)\n",
        "print(id(texto), id(nuevo_texto))"
      ],
      "metadata": {
        "id": "ocPP-Jaj_SJI",
        "outputId": "8c91d5ed-6d11-4c6d-97b3-b423ea6ce3a5",
        "colab": {
          "base_uri": "https://localhost:8080/"
        }
      },
      "execution_count": 48,
      "outputs": [
        {
          "output_type": "stream",
          "name": "stdout",
          "text": [
            "MICAELA DE LOS SANTOS\n",
            "138210663780064 138210663617264\n"
          ]
        }
      ]
    },
    {
      "cell_type": "code",
      "source": [
        "texto = texto.strip().replace(\"y\",\"t\").upper()\n",
        "print(texto)\n",
        "print(id(texto), id(nuevo_texto))"
      ],
      "metadata": {
        "id": "m1RvLGZZ_SP3",
        "outputId": "d7369665-c4be-4e9c-bea8-190fd2f1acfe",
        "colab": {
          "base_uri": "https://localhost:8080/"
        }
      },
      "execution_count": 50,
      "outputs": [
        {
          "output_type": "stream",
          "name": "stdout",
          "text": [
            "MICAELA DE LOS SANTOS\n",
            "138210663617264 138210677336752\n"
          ]
        }
      ]
    },
    {
      "cell_type": "markdown",
      "source": [
        "## Capturando datos\n",
        "\n",
        "En algunas aplicaciones necesitamos capturar los valores del usuario de nuestro proyecto. En python, logramos capturar los datos del usuario a través del comando [`input()`](https://docs.python.org/3/library/functions.html#input).\n",
        "\n",
        "Para ejecutar la captura debemos atribuir el resultado de esta función a una variable."
      ],
      "metadata": {
        "id": "0h9Fh5G9kHCa"
      }
    },
    {
      "cell_type": "code",
      "source": [
        "nombre = input(\"Escribe tu nombre:\")"
      ],
      "metadata": {
        "id": "zbH_9i3q_PdY",
        "outputId": "1061eb79-2dd1-4756-ccaa-b8985ef73a5d",
        "colab": {
          "base_uri": "https://localhost:8080/"
        }
      },
      "execution_count": 51,
      "outputs": [
        {
          "name": "stdout",
          "output_type": "stream",
          "text": [
            "Escribe tu nombre:Hector\n"
          ]
        }
      ]
    },
    {
      "cell_type": "code",
      "source": [
        "type(nombre)"
      ],
      "metadata": {
        "id": "JZy1Q9Tl_PgL",
        "outputId": "ad788044-f655-44c0-88b2-d9e4bad8cf99",
        "colab": {
          "base_uri": "https://localhost:8080/"
        }
      },
      "execution_count": 52,
      "outputs": [
        {
          "output_type": "execute_result",
          "data": {
            "text/plain": [
              "str"
            ]
          },
          "metadata": {},
          "execution_count": 52
        }
      ]
    },
    {
      "cell_type": "code",
      "source": [],
      "metadata": {
        "id": "xVFSOhpja3Da"
      },
      "execution_count": null,
      "outputs": []
    },
    {
      "cell_type": "markdown",
      "source": [
        "La salida de este comando siempre será una *string*. Esto quiere decir que aunque capturemos un valor de variable numérica, este será de tipo string.\n",
        "\n",
        "Entonces, será necesario **convertir el resultado cuando no se desea utilizar el valor como tipo string**."
      ],
      "metadata": {
        "id": "7z7hcLCk_aCY"
      }
    },
    {
      "cell_type": "markdown",
      "source": [
        "Existen funciones para la conversión de valores:\n",
        "\n",
        "- Enteros: [`int(dato_para_conversion)`](https://docs.python.org/3/library/functions.html#int)\n",
        "- Coma flotante: [`float(dato_para_conversion)`](https://docs.python.org/3/library/functions.html#float)\n",
        "- String: [`str(dato_para_conversion)`](https://docs.python.org/3/library/functions.html#func-str)\n",
        "- Booleano: [`bool(dato_para_conversion)`](https://docs.python.org/3/library/functions.html#bool)"
      ],
      "metadata": {
        "id": "TOlegATj1Jfp"
      }
    },
    {
      "cell_type": "code",
      "source": [
        "ano_admision = int(input(\"dijita el año de admision: \"))\n",
        "type(ano_admision)"
      ],
      "metadata": {
        "id": "M2ueeH6l_NMe",
        "outputId": "fead0966-502f-4dc2-8476-5c6da3dec3cd",
        "colab": {
          "base_uri": "https://localhost:8080/"
        }
      },
      "execution_count": 63,
      "outputs": [
        {
          "name": "stdout",
          "output_type": "stream",
          "text": [
            "dijita el año de admision: 2023\n"
          ]
        },
        {
          "output_type": "execute_result",
          "data": {
            "text/plain": [
              "int"
            ]
          },
          "metadata": {},
          "execution_count": 63
        }
      ]
    },
    {
      "cell_type": "code",
      "source": [
        "ano_salida = input(\"Digita el año de salida: \")"
      ],
      "metadata": {
        "id": "xfWwuViK_NUn",
        "outputId": "07574e19-62ca-4e8f-b9be-4b9f086c74a8",
        "colab": {
          "base_uri": "https://localhost:8080/"
        }
      },
      "execution_count": 55,
      "outputs": [
        {
          "name": "stdout",
          "output_type": "stream",
          "text": [
            "Digita el año de salida: 2024\n"
          ]
        }
      ]
    },
    {
      "cell_type": "code",
      "source": [
        "type(ano_salida)"
      ],
      "metadata": {
        "id": "uFCHDyew_NZm",
        "outputId": "dad71fd4-2d08-4843-e112-08aedcfd2a62",
        "colab": {
          "base_uri": "https://localhost:8080/"
        }
      },
      "execution_count": 56,
      "outputs": [
        {
          "output_type": "execute_result",
          "data": {
            "text/plain": [
              "str"
            ]
          },
          "metadata": {},
          "execution_count": 56
        }
      ]
    },
    {
      "cell_type": "code",
      "source": [
        "ano_admision + ano_salida"
      ],
      "metadata": {
        "id": "j9kiv317bUFc",
        "outputId": "ac3b6b3a-6c7e-4f1a-acc2-f19fa8192bf4",
        "colab": {
          "base_uri": "https://localhost:8080/",
          "height": 36
        }
      },
      "execution_count": 57,
      "outputs": [
        {
          "output_type": "execute_result",
          "data": {
            "text/plain": [
              "'20232024'"
            ],
            "application/vnd.google.colaboratory.intrinsic+json": {
              "type": "string"
            }
          },
          "metadata": {},
          "execution_count": 57
        }
      ]
    },
    {
      "cell_type": "code",
      "source": [],
      "metadata": {
        "id": "uYxgHsTcbbxN"
      },
      "execution_count": null,
      "outputs": []
    },
    {
      "cell_type": "markdown",
      "source": [
        "Trataremos de representar mejor ahora el resultado de la transformación que obtuvimos. Nosotros podemos formatear y presentar nuestro resultado mezclando strings con valores no textuales.\n",
        "\n",
        "Para ello utilizamos la estructura de formatación `f` con strings."
      ],
      "metadata": {
        "id": "yNI2-XTbB3aS"
      }
    },
    {
      "cell_type": "code",
      "source": [
        "print(f\"El año de admision fue {ano_admision}\\nLa nota de admision fue: \")"
      ],
      "metadata": {
        "id": "keJjA5N9_K5i",
        "outputId": "03296a5b-b3c5-4de3-dbe2-6574ca871050",
        "colab": {
          "base_uri": "https://localhost:8080/"
        }
      },
      "execution_count": 64,
      "outputs": [
        {
          "output_type": "stream",
          "name": "stdout",
          "text": [
            "El año de admision fue 2023\n",
            "La nota de admision fue: \n"
          ]
        }
      ]
    },
    {
      "cell_type": "markdown",
      "source": [
        "# Estructuras condicionales"
      ],
      "metadata": {
        "id": "NwRaiHHHhhyl"
      }
    },
    {
      "cell_type": "code",
      "source": [
        "#Nota de aprobacion va a ser entre 7 y 10 ==nota de aprobacion >=7\n",
        "#Nota de reprobacion es menor a 7 == nota de reproacion < 7\n",
        "\n",
        "\"\"\"\n",
        "si la nota es mayor o igual a 7 el alumno aprueba\n",
        "si no, entonces elestudiante reprueba\n",
        "\"\"\"\n",
        "\n"
      ],
      "metadata": {
        "id": "pa4gLncu-mvU",
        "outputId": "c14ce2b4-4e1e-465e-8e9f-deabbfee931e",
        "colab": {
          "base_uri": "https://localhost:8080/",
          "height": 36
        }
      },
      "execution_count": 66,
      "outputs": [
        {
          "output_type": "execute_result",
          "data": {
            "text/plain": [
              "'\\nsi la nota es mayor o igual a 7 el alumno aprueba\\nsi no, entonces elestudiante reprueba\\n'"
            ],
            "application/vnd.google.colaboratory.intrinsic+json": {
              "type": "string"
            }
          },
          "metadata": {},
          "execution_count": 66
        }
      ]
    },
    {
      "cell_type": "code",
      "source": [],
      "metadata": {
        "id": "_cWRmDiE-m4p"
      },
      "execution_count": null,
      "outputs": []
    },
    {
      "cell_type": "markdown",
      "source": [
        "## `IF` y `ELSE`\n",
        "\n",
        "Los comandos `if` y `else` son dos estructuras condicionales. El comando `if` ejecutará el bloque de comandos en caso de que la condición citada sea  **verdadera**. El comando `else` ejecutará el bloque de comandos en el caso de que la condicional de `if` sea **falsa**."
      ],
      "metadata": {
        "id": "qXZqg9aYEhAh"
      }
    },
    {
      "cell_type": "markdown",
      "source": [
        "El comando `if` es una palabra clave en Python que significa \"si\". Este se emplea para conformar la estructura condicional, que te permite verificar si una determinada condición es verdadera o falsa e, inmediatamente después, ejecute un bloque de código específico dependiendo del resultado de la verificación. La sintaxis para usar el comando `if` es:\n",
        "\n",
        "\n",
        "\n",
        "```\n",
        "if condicion:\n",
        "    # Realiza algo\n",
        "```\n",
        "\n"
      ],
      "metadata": {
        "id": "EIhlqHXd2Gil"
      }
    },
    {
      "cell_type": "code",
      "source": [
        "if 2 > 7 :\n",
        "  print(\"la condicion es veradera\")\n",
        "print(\"Fin de la consulta\")"
      ],
      "metadata": {
        "id": "S2S6XAFz-czM",
        "outputId": "8fcfc87a-e937-43e5-f26a-ffad533d7e0d",
        "colab": {
          "base_uri": "https://localhost:8080/"
        }
      },
      "execution_count": 69,
      "outputs": [
        {
          "output_type": "stream",
          "name": "stdout",
          "text": [
            "Fin de la consulta\n"
          ]
        }
      ]
    },
    {
      "cell_type": "markdown",
      "source": [],
      "metadata": {
        "id": "ckkIQgrfsD2I"
      }
    },
    {
      "cell_type": "code",
      "source": [
        "if 2 > 7 :\n",
        "  print(\"la condicion es veradera\")\n",
        "else:\n",
        "  print(\"la condicion es falsa\")\n",
        "print(\"Fin de la consulta\")"
      ],
      "metadata": {
        "id": "YHkwMMyY-c1r",
        "outputId": "55ee085b-35bb-4b9e-e0f6-ca4c206ea5c4",
        "colab": {
          "base_uri": "https://localhost:8080/"
        }
      },
      "execution_count": 70,
      "outputs": [
        {
          "output_type": "stream",
          "name": "stdout",
          "text": [
            "la condicion es falsa\n",
            "Fin de la consulta\n"
          ]
        }
      ]
    },
    {
      "cell_type": "code",
      "source": [],
      "metadata": {
        "id": "lLit14-CssYy"
      },
      "execution_count": null,
      "outputs": []
    },
    {
      "cell_type": "markdown",
      "source": [
        "Ya el comando `else` en Python se usa en junción con la palabra clave `if` para formar una estructura condicional. la sintaxis para usar el `else` es:\n",
        "\n",
        "```\n",
        "if condicion:\n",
        "  # codigo en caso de que sea verdad\n",
        "else:\n",
        "  # codigo en caso de que sea falso\n",
        "```\n",
        "\n",
        "el comando `else` se ejecuta cuando la condición verificada por el `if` es evaluada como `False`."
      ],
      "metadata": {
        "id": "27RW2v_sIKct"
      }
    },
    {
      "cell_type": "code",
      "source": [],
      "metadata": {
        "id": "ZTfNJd_f-aOq"
      },
      "execution_count": null,
      "outputs": []
    },
    {
      "cell_type": "code",
      "source": [],
      "metadata": {
        "id": "LPOb5MkV-btq"
      },
      "execution_count": null,
      "outputs": []
    },
    {
      "cell_type": "markdown",
      "source": [
        "---\n",
        "**Situación:**\n",
        "\n",
        "Recibiremos el promedio de la nota de los estudiantes y necesitamos de un algoritmo que ejecute el análisis y determine si el estudiante fue **Aprobado** o **Reprobado**, mostrando un mensaje del resultado. Para ser aprobado, el promedio necesita ser igual o superior a 7.0."
      ],
      "metadata": {
        "id": "BqORg85XX-Nl"
      }
    },
    {
      "cell_type": "code",
      "source": [
        "nota = float(input(\"Digita la nota\"))\n",
        "\n",
        "if nota >= 7:\n",
        "  print(\"aprobo\")\n",
        "else:\n",
        "  print(\"reprobo\")"
      ],
      "metadata": {
        "id": "UukCN4AQ-YYW",
        "outputId": "6b0aae19-ec68-4972-da4f-966befb9eee0",
        "colab": {
          "base_uri": "https://localhost:8080/"
        }
      },
      "execution_count": 71,
      "outputs": [
        {
          "output_type": "stream",
          "name": "stdout",
          "text": [
            "Digita la nota5\n",
            "reprobo\n"
          ]
        }
      ]
    },
    {
      "cell_type": "code",
      "source": [],
      "metadata": {
        "id": "X0o8FW1H-YkA"
      },
      "execution_count": null,
      "outputs": []
    },
    {
      "cell_type": "markdown",
      "source": [
        "Ahora, nuestra institución educativa estableció que las personas que tengan el promedio entre 5.0 y 7.0 pueden participar del curso de **Recuperación** durante las vacaciones para lograr aprobar.\n",
        "\n",
        "Entonces podemos apoyarnos en un conjunto de `if`s para poder estructurar esta nueva condición."
      ],
      "metadata": {
        "id": "bD9O17HB6LUo"
      }
    },
    {
      "cell_type": "code",
      "source": [
        "nota = float(input(\"Digita la nota\"))\n",
        "\n",
        "if nota >= 7:\n",
        "  print(\"aprobo\")\n",
        "if 7 > nota >= 5:\n",
        "  print(\"recuperacion\")\n",
        "if nota < 5:\n",
        "  print(\"reprobo\")\n",
        ""
      ],
      "metadata": {
        "id": "G9cJ5O9--W52",
        "outputId": "c0ac8eb3-baad-43e1-db03-1d1a9806831b",
        "colab": {
          "base_uri": "https://localhost:8080/"
        }
      },
      "execution_count": 73,
      "outputs": [
        {
          "output_type": "stream",
          "name": "stdout",
          "text": [
            "Digita la nota6\n",
            "recuperacion\n"
          ]
        }
      ]
    },
    {
      "cell_type": "code",
      "source": [],
      "metadata": {
        "id": "iU-pjoJt-W89"
      },
      "execution_count": null,
      "outputs": []
    },
    {
      "cell_type": "markdown",
      "source": [
        "Observa que en casos con 3 situaciones como este necesitamos definir bien nuestras condiciones. Pues, si realizamos una condición con `else` al final, este irá a considerar solamente la condición `if` inmediatamente anterior para generar la salida en caso de que el resultado de su operación lógica sea **falso** dando como resultado, dos o más ejecuciones.\n",
        "\n",
        "Por ejemplo:"
      ],
      "metadata": {
        "id": "D5e2mByjvycO"
      }
    },
    {
      "cell_type": "code",
      "source": [
        "nota = float(input(\"Digita la nota\"))\n",
        "\n",
        "if nota >= 7:\n",
        "  print(\"aprobo\")\n",
        "if 7 > nota >= 5:\n",
        "  print(\"recuperacion\")\n",
        "else:\n",
        "  print(\"reprobo\")"
      ],
      "metadata": {
        "id": "C21JmOuK-VU8",
        "outputId": "957c94d8-3695-47e8-bc13-f43b4c6139ef",
        "colab": {
          "base_uri": "https://localhost:8080/"
        }
      },
      "execution_count": 74,
      "outputs": [
        {
          "output_type": "stream",
          "name": "stdout",
          "text": [
            "Digita la nota8\n",
            "aprobo\n",
            "reprobo\n"
          ]
        }
      ]
    },
    {
      "cell_type": "code",
      "source": [],
      "metadata": {
        "id": "bHiVgnPs-Vlv"
      },
      "execution_count": null,
      "outputs": []
    },
    {
      "cell_type": "markdown",
      "source": [
        "## `ELIF`\n",
        "\n",
        "El comando `elif` es una palabra clave en Python que significa \"si no, si\" y lo podemos considerar una *contracción* entre `else` e `if`. Se utiliza en conjunto con la palabra clave `if` para formar una estructura condicional en cadena."
      ],
      "metadata": {
        "id": "04T5g-7h4zWx"
      }
    },
    {
      "cell_type": "markdown",
      "source": [
        "la sintaxis para utilizar el comando `elif` es:\n",
        "\n",
        "```\n",
        "if condicion1:\n",
        "    # Realiza algo\n",
        "elif condicion2:\n",
        "    # Realiza otra cosa\n",
        "elif condicion3:\n",
        "    # Realiza otra cosa\n",
        "else:\n",
        "    # Realiza algo diferente\n",
        "```\n",
        "\n",
        "El comando `elif` permite que puedas verificar varias condiciones en cadena, economizando espacio en tu código. Si la primera condición se evalúa como `False`, el interpretador de Python evaluará la próxima condición con el `elif`. Ello continuará hasta que una condición sea evaluada como `True` o hasta que el `else` sea alcazado. Si ninguna de las condiciones es evaluada como `True`, la ejecución del código del comando `else` será iniciada."
      ],
      "metadata": {
        "id": "rNBHr5mm1Lm6"
      }
    },
    {
      "cell_type": "markdown",
      "source": [
        "Vamos a emplear el mismo caso anterior:"
      ],
      "metadata": {
        "id": "MVoykFbB4bd4"
      }
    },
    {
      "cell_type": "code",
      "source": [
        "nota = float(input(\"Digita la nota\"))\n",
        "\n",
        "if nota >= 7:\n",
        "  print(\"aprobo\")\n",
        "elif 7 > nota >= 5:\n",
        "  print(\"recuperacion\")\n",
        "else:\n",
        "  print(\"reprobo\")"
      ],
      "metadata": {
        "id": "QFamB78s-TW_",
        "outputId": "09fabec3-96ee-496d-bae7-c551dd51f49c",
        "colab": {
          "base_uri": "https://localhost:8080/"
        }
      },
      "execution_count": 75,
      "outputs": [
        {
          "output_type": "stream",
          "name": "stdout",
          "text": [
            "Digita la nota8\n",
            "aprobo\n"
          ]
        }
      ]
    },
    {
      "cell_type": "code",
      "source": [],
      "metadata": {
        "id": "nuScbnHF-TfK"
      },
      "execution_count": null,
      "outputs": []
    },
    {
      "cell_type": "markdown",
      "source": [
        "## Operadores\n",
        "\n",
        "Durante la construcción de comandos a veces necesitamos de una elaboración mayor de la expresión condicional, necesitando que algunos operadores lógicos se encuentren integrados."
      ],
      "metadata": {
        "id": "Tf1wSOem6iwZ"
      }
    },
    {
      "cell_type": "markdown",
      "source": [
        "### `AND`, `OR`, `NOT`\n",
        "\n",
        "Los operadores lógicos `and`, `or` y `not` son usados para combinar expresiones lógicas en Python. Ellos son usados frecuentemente en conjunto con el comando `if` para crear estructuras condicionales más complejas.\n"
      ],
      "metadata": {
        "id": "GFIZnRWXGPWO"
      }
    },
    {
      "cell_type": "markdown",
      "source": [
        "- `AND` es usado para verificar si dos condiciones son verdaderas. La expresión lógica¹ `x and y` se evalúa como `True` tan solo si **ambas condiciones `x` y `y` son verdaderas**, y como `False` en caso contrario.\n",
        "\n",
        "- `OR` es usado para verificar si al menos una de las condiciones es verdadera. La expresión lógica `x or y` se evalúa como `True` **si al menos una de las condiciones `x` o `y` es verdadera**, y como `False` si ambas condiciones son falsas.\n",
        "\n",
        "- `NOT` es usado para **negar una condición**. La expresión lógica `not x` es evaluada como `True` si la condición x es falsa, y como `False` si la condición x es verdadera.\n",
        "\n",
        "¹ Una expresión lógica es una declaración que puede ser evaluada como verdadera o falsa. Ella se compone por operandos lógicos² y por operadores lógicos³, que son usados ​​para combinar varias expresiones lógicas en una única expresión.\n",
        "\n",
        "² Los operandos lógicos son los elementos que son comparados o evaluados en una expresión lógica. Ellos son generalmente valores verdaderos o falsos, pero también pueden ser expresiones lógicas más complejas. En Python, los operandos lógicos son los valores `True` y `False`.\n",
        "\n",
        "³ Los operadores lógicos son ls símbolos o palabras clave que son usados ​​para combinar varias expresiones lógicas en una única expresión. En Python, los operadores lógicos son `and`, `or` y `not`, bien como las palabras clave `if`, `elif` e `else`."
      ],
      "metadata": {
        "id": "Z_dgAoHXJbzB"
      }
    },
    {
      "cell_type": "markdown",
      "source": [
        "> Operadores lógicos más comunes\n",
        "\n",
        "|a|b|AND|OR|NOT|\n",
        "|-|-|-|-|-|\n",
        "|0|0|0|0|1\n",
        "|0|1|0|1|-\n",
        "|1|0|0|1|-\n",
        "|1|1|1|1|0\n"
      ],
      "metadata": {
        "id": "2E5aUogf-49u"
      }
    },
    {
      "cell_type": "code",
      "source": [
        "v = True\n",
        "f = False"
      ],
      "metadata": {
        "id": "DFKmpvmS-Pa6"
      },
      "execution_count": 80,
      "outputs": []
    },
    {
      "cell_type": "code",
      "source": [
        "if f or f :\n",
        "  print(\"la condicion es veradera\")\n",
        "else:\n",
        "  print(\"la condificion es falsa\")"
      ],
      "metadata": {
        "id": "W5BIrpOD-PeI",
        "outputId": "3cc6b53c-9902-4d5f-9120-4ee46fd9edb7",
        "colab": {
          "base_uri": "https://localhost:8080/"
        }
      },
      "execution_count": 81,
      "outputs": [
        {
          "output_type": "stream",
          "name": "stdout",
          "text": [
            "la condificion es falsa\n"
          ]
        }
      ]
    },
    {
      "cell_type": "code",
      "source": [
        "if v or f :\n",
        "  print(\"la condicion es veradera\")\n",
        "else:\n",
        "  print(\"la condificion es falsa\")"
      ],
      "metadata": {
        "id": "fpDhYxq4-PiM",
        "outputId": "a7b0dbad-4072-4b11-c7bd-a3df4e89c824",
        "colab": {
          "base_uri": "https://localhost:8080/"
        }
      },
      "execution_count": 82,
      "outputs": [
        {
          "output_type": "stream",
          "name": "stdout",
          "text": [
            "la condicion es veradera\n"
          ]
        }
      ]
    },
    {
      "cell_type": "markdown",
      "source": [
        "### `IN`\n",
        "\n",
        "Es usado para verificar si un elemento está presente en una lista, tupla u otra colección de conjunto. La expresión `x in y` se evalúa como `True` si el elemento `x` esta presente na variávelen la variable de conjunto `y`, y como `False` en caso contrario."
      ],
      "metadata": {
        "id": "w7EXG1dhWtja"
      }
    },
    {
      "cell_type": "markdown",
      "source": [
        "Podemos verificarlo con variables de texto.\n",
        "\n",
        "---\n",
        "\n",
        "**Situación:**\n",
        "\n",
        "En la escuela nos entregaron una lista con nombres de estudiantes que fueron aprobados según el promedio del semestre, pero es necesario verificar si algunos nombres están en esa lista para confirmar que los datos estén correctos.\n",
        "\n",
        "La lista distribuida puede ser observada a continuación:\n",
        "\n",
        "```\n",
        "lista = 'Juan Pérez, María González, Pedro Rodríguez, Ana López, Carlos Martínez,\n",
        "    Laura Sánchez, José García, Elena Fernández, Luis Morales, Carmen Torres,\n",
        "    David Ruiz, Isabel Ramírez, Javier Díaz, Sara Herrera, Miguel Castro,\n",
        "    Patricia Ortega, Francisco Vargas, Marta Jiménez, Manuel Medina, Rosa Molina,\n",
        "    Alejandro Silva, Silvia Ruiz, Andrés Torres, Natalia Soto, Diego Guerrero,\n",
        "    Paula Ríos, Ricardo Navarro, Alicia Cordero, Carlos Vidal, Lorena Gómez'\n",
        "```\n",
        "\n",
        "Los nombres que necesitas verificar son los siguientes:\n",
        "\n",
        "```\n",
        "nombre_1 = 'Miguel Castro'\n",
        "nombre_2 = 'Marcelo Noguera'\n",
        "```"
      ],
      "metadata": {
        "id": "enJNp6JenQbq"
      }
    },
    {
      "cell_type": "code",
      "source": [
        "lista = 'Juan Pérez, María González, Pedro Rodríguez, Ana López, Carlos Martínez, Laura Sánchez, José García, Elena Fernández, Luis Morales, Carmen Torres,David Ruiz, Isabel Ramírez, Javier Díaz, Sara Herrera, Miguel Castro,Patricia Ortega, Francisco Vargas, Marta Jiménez, Manuel Medina, Rosa Molina,Alejandro Silva, Silvia Ruiz, Andrés Torres, Natalia Soto, Diego Guerrero,Paula Ríos, Ricardo Navarro, Alicia Cordero, Carlos Vidal, Lorena Gómez'\n"
      ],
      "metadata": {
        "id": "gPPN9BCT-Mki"
      },
      "execution_count": 84,
      "outputs": []
    },
    {
      "cell_type": "code",
      "source": [
        "nombre_1 ='Miguel Castro'\n",
        "nombre_2 = 'Marcelo Noguera'"
      ],
      "metadata": {
        "id": "sy_6gxcgyd3H"
      },
      "execution_count": 85,
      "outputs": []
    },
    {
      "cell_type": "code",
      "source": [
        "if nombre_1 in lista:\n",
        "  print(\"El estudiante aprobo\")\n",
        "else:\n",
        "  print(\"el estudiante reprobo\")"
      ],
      "metadata": {
        "id": "GINbG3Fa-Mnb",
        "outputId": "2e6be0dd-5091-459f-fe73-f94476b29118",
        "colab": {
          "base_uri": "https://localhost:8080/"
        }
      },
      "execution_count": 86,
      "outputs": [
        {
          "output_type": "stream",
          "name": "stdout",
          "text": [
            "El estudiante aprobo\n"
          ]
        }
      ]
    },
    {
      "cell_type": "code",
      "source": [
        "if nombre_2 in lista:\n",
        "  print(\"El estudiante aprobo\")\n",
        "else:\n",
        "  print(\"el estudiante reprobo\")"
      ],
      "metadata": {
        "id": "hk-RhNRT-Mp7",
        "outputId": "46650c67-5184-4d73-f115-e8526f7d58df",
        "colab": {
          "base_uri": "https://localhost:8080/"
        }
      },
      "execution_count": 87,
      "outputs": [
        {
          "output_type": "stream",
          "name": "stdout",
          "text": [
            "el estudiante reprobo\n"
          ]
        }
      ]
    },
    {
      "cell_type": "markdown",
      "source": [
        "# Estructuras de repetición"
      ],
      "metadata": {
        "id": "aL1vJPewvwvz"
      }
    },
    {
      "cell_type": "markdown",
      "source": [
        "Cuando tenemos que ejecutar un mismo bloque de comandos durante varias ocasiones no es nada práctico hacerlo a mano.\n",
        "\n",
        "**Situación**: Nos fue solicitado obtener e imprimir el promedio de 2 notas de **3 estudantes**:"
      ],
      "metadata": {
        "id": "VcPfCa8d-84t"
      }
    },
    {
      "cell_type": "code",
      "source": [
        "nota_1= float(input(\"digita la primera nota\"))\n",
        "nota_2= float(input(\"digita la segunda nota\"))\n",
        "print(f\"EL promedio del estudainte 1 es: {(nota_1 + nota_2)/2}\")\n",
        "\n",
        "nota_1= float(input(\"digita la primera nota\"))\n",
        "nota_2= float(input(\"digita la segunda nota\"))\n",
        "print(f\"EL promedio del estudainte 2 es: {(nota_1 + nota_2)/2}\")\n",
        "\n",
        "nota_1= float(input(\"digita la primera nota\"))\n",
        "nota_2= float(input(\"digita la segunda nota\"))\n",
        "print(f\"EL promedio del estudainte 3 es: {(nota_1 + nota_2)/2}\")"
      ],
      "metadata": {
        "id": "xcx21IGT9qA0",
        "outputId": "0efb717a-3ac4-4d18-ce65-449542c46b95",
        "colab": {
          "base_uri": "https://localhost:8080/"
        }
      },
      "execution_count": 90,
      "outputs": [
        {
          "output_type": "stream",
          "name": "stdout",
          "text": [
            "digita la primera nota6.5\n",
            "digita la segunda nota8.5\n",
            "EL promedio del estudainte 1 es: 7.5\n",
            "digita la primera nota8.3\n",
            "digita la segunda nota9\n",
            "EL promedio del estudainte 2 es: 8.65\n",
            "digita la primera nota3\n",
            "digita la segunda nota10\n",
            "EL promedio del estudainte 3 es: 6.5\n"
          ]
        }
      ]
    },
    {
      "cell_type": "code",
      "source": [],
      "metadata": {
        "id": "Wtbiy9Ay9rGJ"
      },
      "execution_count": null,
      "outputs": []
    },
    {
      "cell_type": "code",
      "source": [],
      "metadata": {
        "id": "Yfyz4anY9rIr"
      },
      "execution_count": null,
      "outputs": []
    },
    {
      "cell_type": "markdown",
      "source": [
        "Ahora imaginemos una situación en que no son tan solo 3 estudiantes, sino 100 estudiantes. No sería nada interesante repetir el mismo código 100 veces, sino **ejecutar el mismo código 100 veces**.\n",
        "\n",
        "¡Esta estructura la logramos construir con lazos de repetición!"
      ],
      "metadata": {
        "id": "9puIuvUbFSFX"
      }
    },
    {
      "cell_type": "markdown",
      "source": [
        "## `WHILE`"
      ],
      "metadata": {
        "id": "uLO9-aE4-wx8"
      }
    },
    {
      "cell_type": "markdown",
      "source": [
        "El lazo `while` es una estructura de control de repetición en Python que permite ejecutar un bloque de código repetidamente mientras que una determinada condición sea verdadera. Su estructura es:\n",
        "\n",
        "\n",
        "\n",
        "```\n",
        "while condicion:\n",
        "    # bloque de codigo\n",
        "```\n",
        "\n",
        "Vamos a construir un ejemplo con un contador de 1 hasta 10.\n"
      ],
      "metadata": {
        "id": "rXZxDMiqHxm9"
      }
    },
    {
      "cell_type": "code",
      "source": [
        "contador =1\n",
        "while contador <= 10:\n",
        "  print(contador)\n",
        "  #contador = contador +1\n",
        "  contador += 1"
      ],
      "metadata": {
        "id": "Hd0ZSWxD9wCD",
        "outputId": "24890145-69a8-4c71-ceae-5a07fe389cd7",
        "colab": {
          "base_uri": "https://localhost:8080/"
        }
      },
      "execution_count": 92,
      "outputs": [
        {
          "output_type": "stream",
          "name": "stdout",
          "text": [
            "1\n",
            "2\n",
            "3\n",
            "4\n",
            "5\n",
            "6\n",
            "7\n",
            "8\n",
            "9\n",
            "10\n"
          ]
        }
      ]
    },
    {
      "cell_type": "code",
      "source": [],
      "metadata": {
        "id": "miFHNqp29nOL"
      },
      "execution_count": null,
      "outputs": []
    },
    {
      "cell_type": "markdown",
      "source": [
        "Ahora vamos a colectar las notas y promedios de cada alumno dentro del lazo `while`. Haremos un ejemplo con 3 promedios."
      ],
      "metadata": {
        "id": "W4KZPBJuIrut"
      }
    },
    {
      "cell_type": "code",
      "source": [
        "contador = 1\n",
        "while contador <= 3:\n",
        "  nota_1= float(input(\"digita la primera nota:\"))\n",
        "  nota_2= float(input(\"digita la segunda nota:\"))\n",
        "  print(f\"EL promedio del estudainte 1 es: {(nota_1 + nota_2)/2}\")\n",
        "  contador += 1"
      ],
      "metadata": {
        "id": "9T5eCLFx9wk6",
        "outputId": "a217d06b-ce93-48af-8d7e-621a1d8143c4",
        "colab": {
          "base_uri": "https://localhost:8080/"
        }
      },
      "execution_count": 95,
      "outputs": [
        {
          "output_type": "stream",
          "name": "stdout",
          "text": [
            "digita la primera nota:8.5\n",
            "digita la segunda nota:5.7\n",
            "EL promedio del estudainte 1 es: 7.1\n",
            "digita la primera nota:9\n",
            "digita la segunda nota:7\n",
            "EL promedio del estudainte 1 es: 8.0\n",
            "digita la primera nota:6.5\n",
            "digita la segunda nota:10\n",
            "EL promedio del estudainte 1 es: 8.25\n"
          ]
        }
      ]
    },
    {
      "cell_type": "code",
      "source": [],
      "metadata": {
        "id": "P6E0_dW-9lZ9"
      },
      "execution_count": null,
      "outputs": []
    },
    {
      "cell_type": "markdown",
      "source": [
        "## `FOR`"
      ],
      "metadata": {
        "id": "WgAIaENMMfCP"
      }
    },
    {
      "cell_type": "markdown",
      "source": [
        "El lazo `for` es un tipo de estructura de control de flujo en Python que permite iterar sobre un conjunto de elementos. Su estructura es:\n",
        "\n",
        "\n",
        "\n",
        "```\n",
        "for elemento in conjunto:\n",
        "    # codigo a ser ejecutado para cada elemento\n",
        "```\n",
        "\n",
        "El lazo `for` itera sobre cada elemento del conjunto especificado y ejecuta el bloque de código dentro del lazo para cada elemento. Cuando el lazo llega al final del conjunto, este se interrumpe y el programa continúa la ejecución después del lazo.\n",
        "\n"
      ],
      "metadata": {
        "id": "HxrSZoRAMh-x"
      }
    },
    {
      "cell_type": "markdown",
      "source": [
        "El conjunto lo podemos generar con la función incorporada [`range()`](https://docs.python.org/3/library/functions.html#func-range). Se trata de una función capaz de generar una secuencia de números enteros. La estructura de esta función es:\n",
        "\n",
        "```\n",
        "range(inicio, fin, paso)\n",
        "```\n",
        "\n",
        "Según la documentación, `range()` genera una secuencia de números enteros a partir del valor del parámetro `inicio` hasta el valor del parámetro `fin`, de acuerdo con el valor del parámetro `paso`. Si `inicio` no es especificado, el valor por defecto es `0`. Si `paso` no es especificado, el valor por defecto es `1`.\n",
        "\n",
        "\n"
      ],
      "metadata": {
        "id": "6VgjyoQtPHBM"
      }
    },
    {
      "cell_type": "markdown",
      "source": [
        "Vamos a recrear el mismo contador `while` con el lazo `for`."
      ],
      "metadata": {
        "id": "ryn0hfdlUwC8"
      }
    },
    {
      "cell_type": "code",
      "source": [
        "for n in range(1,11):\n",
        "  print(n)"
      ],
      "metadata": {
        "id": "KkL1wUIj9jL4",
        "outputId": "35beedb6-0962-4d8e-e8b1-62d63b8c70cb",
        "colab": {
          "base_uri": "https://localhost:8080/"
        }
      },
      "execution_count": 97,
      "outputs": [
        {
          "output_type": "stream",
          "name": "stdout",
          "text": [
            "1\n",
            "2\n",
            "3\n",
            "4\n",
            "5\n",
            "6\n",
            "7\n",
            "8\n",
            "9\n",
            "10\n"
          ]
        }
      ]
    },
    {
      "cell_type": "code",
      "source": [
        "for e in range(1,4):\n",
        "  nota_1= float(input(\"digita la primera nota:\"))\n",
        "  nota_2= float(input(\"digita la segunda nota:\"))\n",
        "  print(f\"EL promedio del estudainte 1 es: {(nota_1 + nota_2)/2}\")\n",
        "  contador += 1"
      ],
      "metadata": {
        "id": "uXIZnLSr9jOu",
        "outputId": "6f33451b-58c9-4248-f2b4-4407cf8d53fd",
        "colab": {
          "base_uri": "https://localhost:8080/"
        }
      },
      "execution_count": 99,
      "outputs": [
        {
          "output_type": "stream",
          "name": "stdout",
          "text": [
            "digita la primera nota:7\n",
            "digita la segunda nota:8\n",
            "EL promedio del estudainte 1 es: 7.5\n",
            "digita la primera nota:8\n",
            "digita la segunda nota:9\n",
            "EL promedio del estudainte 1 es: 8.5\n",
            "digita la primera nota:5\n",
            "digita la segunda nota:10\n",
            "EL promedio del estudainte 1 es: 7.5\n"
          ]
        }
      ]
    },
    {
      "cell_type": "markdown",
      "source": [
        "# Estructuras de datos"
      ],
      "metadata": {
        "id": "8noP8OJ0Vhux"
      }
    },
    {
      "cell_type": "markdown",
      "source": [
        "Un conjunto de elementos es una colección de items, que son almacenados juntos de manera organizada. Algunos ejemplos de conjuntos de elementos en Python son las listas, los strings y los diccionarios."
      ],
      "metadata": {
        "id": "xpEUkefTu8fY"
      }
    },
    {
      "cell_type": "markdown",
      "source": [
        "## Listas"
      ],
      "metadata": {
        "id": "THSg4KYLwxIb"
      }
    },
    {
      "cell_type": "markdown",
      "source": [
        "Las listas pueden almacenar una colección de items en orden. Ellas son delimitadas por corchetes `[]` y sus elementos son separados por comas.\n",
        "\n",
        "Estas pueden almacenar cualquier tipo de items, incluyendo números, strings, objetos, otras listas, entre otros. También nos permiten almacenar items de tipos de datos diferentes juntos en una única lista."
      ],
      "metadata": {
        "id": "dzpsiqrOyJcK"
      }
    },
    {
      "cell_type": "code",
      "source": [
        "lista = ['Penélope Camacho',9.5,9.0,9.7,True]\n",
        "lista"
      ],
      "metadata": {
        "id": "DO3TBj7nAYeG",
        "colab": {
          "base_uri": "https://localhost:8080/"
        },
        "outputId": "fbee2eb5-265e-4b5b-badf-a0dd9331074b"
      },
      "execution_count": null,
      "outputs": [
        {
          "output_type": "execute_result",
          "data": {
            "text/plain": [
              "['Penélope Camacho', 9.5, 9.0, 9.7, True]"
            ]
          },
          "metadata": {},
          "execution_count": 62
        }
      ]
    },
    {
      "cell_type": "code",
      "source": [
        "lista = ['Penélope Camacho',9.5,9.0,9.7,True]"
      ],
      "metadata": {
        "id": "DO2ubP9N9D_2"
      },
      "execution_count": 100,
      "outputs": []
    },
    {
      "cell_type": "markdown",
      "source": [
        "Las listas son organizadas en Python porque **cada elemento de la lista tiene un índice que indica su posición al interior de la lista**. Los índices comienzan en 0 van hasta el tamaño de la lista menos 1."
      ],
      "metadata": {
        "id": "qUz3sJNl6LgK"
      }
    },
    {
      "cell_type": "markdown",
      "source": [
        "Tenemos entonces 5 elementos con índices que varían de 0 a 4, ordenadamente:\n",
        "\n",
        "```\n",
        "#             [0]           [1]   [2]   [3]    [4]\n",
        "lista = ['Penélope Camacho', 9.5 , 9.0 , 9.7 , True]\n",
        "```\n",
        "\n",
        "En Python tenemos también los índices **negativos** que se inician en el último elemento con el valor de `-1` y avanzan en el universo de los negativos hasta llegar al 1° elemento:\n",
        "\n",
        "```\n",
        "#             [-5]         [-4]  [-3]  [-2]   [-1]\n",
        "lista = ['Penélope Camacho', 9.5 , 9.0 , 9.7 , True]\n",
        "```\n",
        "\n",
        "Logramos seleccionar separadamente cada elemento a través de sus respectivos índices. Colocando el nombre de la lista y en seguida el índice que será seleccionado."
      ],
      "metadata": {
        "id": "rLf-Qg526hFD"
      }
    },
    {
      "cell_type": "code",
      "source": [
        "lista [0]"
      ],
      "metadata": {
        "id": "4hco1Zqy88Kw",
        "outputId": "45fc8f17-af55-47da-d129-e433676bf9c8",
        "colab": {
          "base_uri": "https://localhost:8080/",
          "height": 36
        }
      },
      "execution_count": 101,
      "outputs": [
        {
          "output_type": "execute_result",
          "data": {
            "text/plain": [
              "'Penélope Camacho'"
            ],
            "application/vnd.google.colaboratory.intrinsic+json": {
              "type": "string"
            }
          },
          "metadata": {},
          "execution_count": 101
        }
      ]
    },
    {
      "cell_type": "code",
      "source": [
        "for elemento in lista:\n",
        "  print(elemento)"
      ],
      "metadata": {
        "id": "M8lH0I2288Ph",
        "outputId": "f7c08bd5-a4e1-4497-afc2-942f6641b069",
        "colab": {
          "base_uri": "https://localhost:8080/"
        }
      },
      "execution_count": 102,
      "outputs": [
        {
          "output_type": "stream",
          "name": "stdout",
          "text": [
            "Penélope Camacho\n",
            "9.5\n",
            "9.0\n",
            "9.7\n",
            "True\n"
          ]
        }
      ]
    },
    {
      "cell_type": "markdown",
      "source": [
        "Una forma más dinámica de trabajar item a item en una lista es utilizando un lazo `for` para leer un elemento a la vez."
      ],
      "metadata": {
        "id": "6TaE1ijmBTCd"
      }
    },
    {
      "cell_type": "code",
      "source": [],
      "metadata": {
        "id": "rBx4Yu1786Sy"
      },
      "execution_count": null,
      "outputs": []
    },
    {
      "cell_type": "markdown",
      "source": [
        "**Situación**: La nota `9.0` de Penélope necesita ser ajustada pues ganó 1 punto en su última nota por participación en clase. Entonces es necesario realizar un cambio en el índice `2` de `9.0` a `10.0`."
      ],
      "metadata": {
        "id": "Dh1_HnIVvucY"
      }
    },
    {
      "cell_type": "code",
      "source": [
        "lista[2]=10.0"
      ],
      "metadata": {
        "id": "bVPoZg668z3T"
      },
      "execution_count": 103,
      "outputs": []
    },
    {
      "cell_type": "code",
      "source": [
        "lista"
      ],
      "metadata": {
        "id": "Jo_PBQ0g8z7D",
        "outputId": "11855aee-611f-4a86-9107-a4a8d875d63d",
        "colab": {
          "base_uri": "https://localhost:8080/"
        }
      },
      "execution_count": 104,
      "outputs": [
        {
          "output_type": "execute_result",
          "data": {
            "text/plain": [
              "['Penélope Camacho', 9.5, 10.0, 9.7, True]"
            ]
          },
          "metadata": {},
          "execution_count": 104
        }
      ]
    },
    {
      "cell_type": "markdown",
      "source": [
        "También podemos calcular el promedio del estudiante a partir de los datos que tenemos."
      ],
      "metadata": {
        "id": "53XduzXkycAf"
      }
    },
    {
      "cell_type": "code",
      "source": [
        "promedio = (lista[1] + lista[2])/2\n",
        "promedio"
      ],
      "metadata": {
        "id": "SIH61Rrb8yv4",
        "outputId": "9dbe53b6-3779-4784-f84c-1ee3675c706a",
        "colab": {
          "base_uri": "https://localhost:8080/"
        }
      },
      "execution_count": 109,
      "outputs": [
        {
          "output_type": "execute_result",
          "data": {
            "text/plain": [
              "9.75"
            ]
          },
          "metadata": {},
          "execution_count": 109
        }
      ]
    },
    {
      "cell_type": "markdown",
      "source": [
        "## Manipulación de listas\n",
        "\n",
        "Las listas son muy útiles en Python porque nos permiten almacenar y acceder a una colección de items de manera organizada y rápida. Estas también ofrecen muchos métodos útiles para manipular los itens almacenados, como adicionar, remover, clasificar y buscar elementos."
      ],
      "metadata": {
        "id": "d-iYr10-y4qw"
      }
    },
    {
      "cell_type": "markdown",
      "source": [
        "#### Cantidad de elementos\n",
        "\n",
        "Usamos la función [`len()`](https://docs.python.org/3/library/functions.html#len) para descubrir la cantidad de elementos de un conjunto."
      ],
      "metadata": {
        "id": "ZLqx9A97XVB_"
      }
    },
    {
      "cell_type": "code",
      "source": [
        "len(lista)"
      ],
      "metadata": {
        "id": "6q1Tmm7P8wQf",
        "outputId": "8d2cc38b-674f-49b7-d67d-1e5e8c84398b",
        "colab": {
          "base_uri": "https://localhost:8080/"
        }
      },
      "execution_count": 110,
      "outputs": [
        {
          "output_type": "execute_result",
          "data": {
            "text/plain": [
              "5"
            ]
          },
          "metadata": {},
          "execution_count": 110
        }
      ]
    },
    {
      "cell_type": "markdown",
      "source": [
        "#### Partición\n",
        "\n",
        "La partición de listas por indexación en Python es una técnica muy útil para seleccionar un subconjunto de elementos de una lista. Esta se realiza usando la sintaxis `lista[inicio:fin]`, donde `inicio` es el índice del primer elemento que será incluído en la partición `fin` es el índice del primer elemento que será excluído de la partición."
      ],
      "metadata": {
        "id": "Z5tpstlHJss3"
      }
    },
    {
      "cell_type": "code",
      "source": [
        "lista[0:2]"
      ],
      "metadata": {
        "id": "NctvJTTU8uV9",
        "outputId": "7da026fb-d79d-4253-d7e9-7f28b74933de",
        "colab": {
          "base_uri": "https://localhost:8080/"
        }
      },
      "execution_count": 111,
      "outputs": [
        {
          "output_type": "execute_result",
          "data": {
            "text/plain": [
              "['Penélope Camacho', 9.5]"
            ]
          },
          "metadata": {},
          "execution_count": 111
        }
      ]
    },
    {
      "cell_type": "code",
      "source": [
        "lista[:3]"
      ],
      "metadata": {
        "id": "bQZUwldj8uY2",
        "outputId": "b6b1e66e-df81-4b6d-9ddd-64300e2580b3",
        "colab": {
          "base_uri": "https://localhost:8080/"
        }
      },
      "execution_count": 112,
      "outputs": [
        {
          "output_type": "execute_result",
          "data": {
            "text/plain": [
              "['Penélope Camacho', 9.5, 10.0]"
            ]
          },
          "metadata": {},
          "execution_count": 112
        }
      ]
    },
    {
      "cell_type": "code",
      "source": [
        "lista[:]"
      ],
      "metadata": {
        "id": "DVo0LCXeBU9X",
        "outputId": "2973512e-bfb6-4112-87f5-ae5bdb6e807c",
        "colab": {
          "base_uri": "https://localhost:8080/"
        }
      },
      "execution_count": 113,
      "outputs": [
        {
          "output_type": "execute_result",
          "data": {
            "text/plain": [
              "['Penélope Camacho', 9.5, 10.0, 9.7, True]"
            ]
          },
          "metadata": {},
          "execution_count": 113
        }
      ]
    },
    {
      "cell_type": "markdown",
      "source": [
        "#### [`append()`](https://docs.python.org/3/tutorial/datastructures.html#:~:text=of%20list%20objects%3A-,list.append(x),-Add%20an%20item)\n",
        "\n",
        "Añade un elemento al final de la lista."
      ],
      "metadata": {
        "id": "O0RRyabkRzZC"
      }
    },
    {
      "cell_type": "code",
      "source": [
        "lista.append(promedio)"
      ],
      "metadata": {
        "id": "_Q0oODwa8spC"
      },
      "execution_count": 114,
      "outputs": []
    },
    {
      "cell_type": "code",
      "source": [
        "lista"
      ],
      "metadata": {
        "id": "RM894r2M8sse",
        "outputId": "e9968870-950e-4860-9063-7c592e75473b",
        "colab": {
          "base_uri": "https://localhost:8080/"
        }
      },
      "execution_count": 115,
      "outputs": [
        {
          "output_type": "execute_result",
          "data": {
            "text/plain": [
              "['Penélope Camacho', 9.5, 10.0, 9.7, True, 9.75]"
            ]
          },
          "metadata": {},
          "execution_count": 115
        }
      ]
    },
    {
      "cell_type": "markdown",
      "source": [
        "#### [`extend()`](https://docs.python.org/3/tutorial/datastructures.html#:~:text=list.extend(iterable))\n",
        "\n",
        "Añade varios elementos al final de la lista.\n",
        "\n",
        "Añadiremos las notas `[10.0,8.0,9.0]` En la lista de Penélope Camacho."
      ],
      "metadata": {
        "id": "uQV91XMsUOJD"
      }
    },
    {
      "cell_type": "code",
      "source": [
        "lista.extend([1,4,6])"
      ],
      "metadata": {
        "id": "6Zk2MpMw8rQc"
      },
      "execution_count": 118,
      "outputs": []
    },
    {
      "cell_type": "code",
      "source": [
        "lista"
      ],
      "metadata": {
        "id": "NnoKkoWb8rTQ",
        "outputId": "9c8b7564-60ea-453d-ff9d-a26d946628cf",
        "colab": {
          "base_uri": "https://localhost:8080/"
        }
      },
      "execution_count": 119,
      "outputs": [
        {
          "output_type": "execute_result",
          "data": {
            "text/plain": [
              "['Penélope Camacho', 9.5, 10.0, 9.7, True, 9.75, 1, 4, 6]"
            ]
          },
          "metadata": {},
          "execution_count": 119
        }
      ]
    },
    {
      "cell_type": "markdown",
      "source": [
        "*A continuación te mostraremos lo que no puede realizarse con* `append`."
      ],
      "metadata": {
        "id": "IVJvkTwNUk6M"
      }
    },
    {
      "cell_type": "code",
      "source": [],
      "metadata": {
        "id": "u3Eub2ZL8pp3"
      },
      "execution_count": null,
      "outputs": []
    },
    {
      "cell_type": "code",
      "source": [],
      "metadata": {
        "id": "tsKK5Ne58pvN"
      },
      "execution_count": null,
      "outputs": []
    },
    {
      "cell_type": "markdown",
      "source": [
        "#### [`remove()`](https://docs.python.org/3/tutorial/datastructures.html#:~:text=append(x).-,list.remove(x),-Remove%20the%20first)\n",
        "\n",
        "Remueve un elemento específico de la lista."
      ],
      "metadata": {
        "id": "dPGM5gpyUX1z"
      }
    },
    {
      "cell_type": "code",
      "source": [
        "lista.remove([10])"
      ],
      "metadata": {
        "id": "mmboODPc8nd5",
        "outputId": "bd192fdc-09e4-4437-c756-bd30240bdf55",
        "colab": {
          "base_uri": "https://localhost:8080/",
          "height": 146
        }
      },
      "execution_count": 125,
      "outputs": [
        {
          "output_type": "error",
          "ename": "ValueError",
          "evalue": "list.remove(x): x not in list",
          "traceback": [
            "\u001b[0;31m---------------------------------------------------------------------------\u001b[0m",
            "\u001b[0;31mValueError\u001b[0m                                Traceback (most recent call last)",
            "\u001b[0;32m<ipython-input-125-9aedf27d2b7d>\u001b[0m in \u001b[0;36m<cell line: 0>\u001b[0;34m()\u001b[0m\n\u001b[0;32m----> 1\u001b[0;31m \u001b[0mlista\u001b[0m\u001b[0;34m.\u001b[0m\u001b[0mremove\u001b[0m\u001b[0;34m(\u001b[0m\u001b[0;34m[\u001b[0m\u001b[0;36m10\u001b[0m\u001b[0;34m]\u001b[0m\u001b[0;34m)\u001b[0m\u001b[0;34m\u001b[0m\u001b[0;34m\u001b[0m\u001b[0m\n\u001b[0m",
            "\u001b[0;31mValueError\u001b[0m: list.remove(x): x not in list"
          ]
        }
      ]
    },
    {
      "cell_type": "code",
      "source": [],
      "metadata": {
        "id": "T_w6vVgV8nh_"
      },
      "execution_count": null,
      "outputs": []
    },
    {
      "cell_type": "markdown",
      "source": [
        "## Diccionario"
      ],
      "metadata": {
        "id": "Rc22Vc08YDZ2"
      }
    },
    {
      "cell_type": "markdown",
      "source": [
        "Los diccionarios son un tipo de estructura de datos que almacenan pares de *llave-valor*. Estos son delimitados por llaves `{}` y los pares *llave-valor* son separados por comas.\n",
        "\n",
        "```\n",
        "diccionario = {llave: valor}\n",
        "```\n",
        "\n",
        "La **llave** es un elemento único que identifica a un valor en el diccionario, mientras que el **valor** es el item que será almacenado para la llave. Las llaves y sus respectivos valores se pueden emplear para **cualquier tipo de dato**.\n",
        "\n",
        "Los diccionarios son útiles para almacenar y acceder a los datos de manera organizada y rápida. Se trata de un tipo de conjunto de elementos en Python, pues almacenan una colección de items."
      ],
      "metadata": {
        "id": "PJ-cCKPjeWxL"
      }
    },
    {
      "cell_type": "code",
      "source": [
        "diccionario = {\"llave_1\":1, \"llave_2\":2}"
      ],
      "metadata": {
        "id": "NDHhzooE8ld5"
      },
      "execution_count": 127,
      "outputs": []
    },
    {
      "cell_type": "code",
      "source": [],
      "metadata": {
        "id": "AVOzqzy-8lhh"
      },
      "execution_count": null,
      "outputs": []
    },
    {
      "cell_type": "markdown",
      "source": [
        "---\n",
        "**Situación:**\n",
        "\n",
        "Vamos a crear un conjunto de datos con las informaciones de matrícula de un estudiante. Los datos son los siguientes:\n",
        "\n",
        "- matrícula: 2000168933\n",
        "- día de registro: 25\n",
        "- mes de registro: 10\n",
        "- grupo: 2E"
      ],
      "metadata": {
        "id": "_JbQ3KMKfkXU"
      }
    },
    {
      "cell_type": "code",
      "source": [
        "estudiante= {\n",
        "              \"matricula\": 2000168933,\n",
        "              \"dia_registro\": 25,\n",
        "              \"mes_registro\": 10,\n",
        "              \"grupo\": \"2E\"\n",
        "             }"
      ],
      "metadata": {
        "id": "0lfOu_c38jED"
      },
      "execution_count": 128,
      "outputs": []
    },
    {
      "cell_type": "code",
      "source": [
        "estudiante[\"matricula\"]"
      ],
      "metadata": {
        "id": "XIuqpTTy8jHV",
        "outputId": "4934ccb7-035e-4bf8-da4a-06866b890a0f",
        "colab": {
          "base_uri": "https://localhost:8080/"
        }
      },
      "execution_count": 130,
      "outputs": [
        {
          "output_type": "execute_result",
          "data": {
            "text/plain": [
              "2000168933"
            ]
          },
          "metadata": {},
          "execution_count": 130
        }
      ]
    },
    {
      "cell_type": "markdown",
      "source": [
        "Es posible sustituir los valores dentro de una llave. Por ejemplo, recibimos la información de que el grupo del estudiante que registramos cambio a `'2G'` y ahora necesitamos cambiar el valor de la llave `'grupo'`."
      ],
      "metadata": {
        "id": "8ex5pt2ykDd2"
      }
    },
    {
      "cell_type": "code",
      "source": [
        "estudiante[\"grupo\"]=\"2G\""
      ],
      "metadata": {
        "id": "kQGlp36b8fyP"
      },
      "execution_count": 131,
      "outputs": []
    },
    {
      "cell_type": "code",
      "source": [
        "estudiante"
      ],
      "metadata": {
        "id": "DnfH_qHi8f17",
        "outputId": "bfadfd37-18c3-4923-8a1d-f043876f537e",
        "colab": {
          "base_uri": "https://localhost:8080/"
        }
      },
      "execution_count": 132,
      "outputs": [
        {
          "output_type": "execute_result",
          "data": {
            "text/plain": [
              "{'matricula': 2000168933,\n",
              " 'dia_registro': 25,\n",
              " 'mes_registro': 10,\n",
              " 'grupo': '2G'}"
            ]
          },
          "metadata": {},
          "execution_count": 132
        }
      ]
    },
    {
      "cell_type": "markdown",
      "source": [
        "También podemos añadir otros datos al diccionario. Vamos a añadir la información sobre la modalidad de estudio, nuestro estudiante estudiará inicialemente en la modalidad EAD.\n",
        "\n",
        "Definiremos una llave llamada `'modalidad'` con el valor `'EAD'`."
      ],
      "metadata": {
        "id": "wB0qRb56mQvv"
      }
    },
    {
      "cell_type": "code",
      "source": [
        "estudiante[\"modalidad\"] = \"EAD\""
      ],
      "metadata": {
        "id": "EeLYdlIm8d8a"
      },
      "execution_count": 133,
      "outputs": []
    },
    {
      "cell_type": "code",
      "source": [
        "estudiante"
      ],
      "metadata": {
        "id": "olDIavsm8d_o",
        "outputId": "f9ab36b5-a644-4c4e-9823-a77893595561",
        "colab": {
          "base_uri": "https://localhost:8080/"
        }
      },
      "execution_count": 135,
      "outputs": [
        {
          "output_type": "execute_result",
          "data": {
            "text/plain": [
              "{'matricula': 2000168933,\n",
              " 'dia_registro': 25,\n",
              " 'mes_registro': 10,\n",
              " 'grupo': '2G',\n",
              " 'modalidad': 'EAD'}"
            ]
          },
          "metadata": {},
          "execution_count": 135
        }
      ]
    },
    {
      "cell_type": "markdown",
      "source": [
        "## Profundizando en diccionarios"
      ],
      "metadata": {
        "id": "LJ3o_inroxg_"
      }
    },
    {
      "cell_type": "markdown",
      "source": [
        "#### [`pop()`](https://python-reference.readthedocs.io/en/latest/docs/dict/pop.html)\n",
        "Remueve un item de un diccionario y lo representa en la salida."
      ],
      "metadata": {
        "id": "2N3GLlkSpBiu"
      }
    },
    {
      "cell_type": "code",
      "source": [
        "estudiante.pop(\"grupo\")"
      ],
      "metadata": {
        "id": "ZsSCZx6G8b-T",
        "outputId": "aeb7c48f-41a4-4046-e7e2-52f65c2f0bde",
        "colab": {
          "base_uri": "https://localhost:8080/",
          "height": 36
        }
      },
      "execution_count": 136,
      "outputs": [
        {
          "output_type": "execute_result",
          "data": {
            "text/plain": [
              "'2G'"
            ],
            "application/vnd.google.colaboratory.intrinsic+json": {
              "type": "string"
            }
          },
          "metadata": {},
          "execution_count": 136
        }
      ]
    },
    {
      "cell_type": "code",
      "source": [
        "estudiante"
      ],
      "metadata": {
        "id": "7lQ8_jpi8cBR",
        "outputId": "0acd2da5-5826-411c-bbb1-59fc3abca6ce",
        "colab": {
          "base_uri": "https://localhost:8080/"
        }
      },
      "execution_count": 137,
      "outputs": [
        {
          "output_type": "execute_result",
          "data": {
            "text/plain": [
              "{'matricula': 2000168933,\n",
              " 'dia_registro': 25,\n",
              " 'mes_registro': 10,\n",
              " 'modalidad': 'EAD'}"
            ]
          },
          "metadata": {},
          "execution_count": 137
        }
      ]
    },
    {
      "cell_type": "markdown",
      "source": [
        "#### [`items()`](https://python-reference.readthedocs.io/en/latest/docs/dict/items.html)\n",
        "Retorna una lista de pares `llave-valor` del diccionario."
      ],
      "metadata": {
        "id": "sYZGvJJYrW_y"
      }
    },
    {
      "cell_type": "code",
      "source": [
        "estudiante.items()"
      ],
      "metadata": {
        "id": "ncdycLV08an7",
        "outputId": "43f7eec0-cf53-4dbc-d569-60132b197ea7",
        "colab": {
          "base_uri": "https://localhost:8080/"
        }
      },
      "execution_count": 138,
      "outputs": [
        {
          "output_type": "execute_result",
          "data": {
            "text/plain": [
              "dict_items([('matricula', 2000168933), ('dia_registro', 25), ('mes_registro', 10), ('modalidad', 'EAD')])"
            ]
          },
          "metadata": {},
          "execution_count": 138
        }
      ]
    },
    {
      "cell_type": "markdown",
      "source": [
        "#### [`keys()`](https://python-reference.readthedocs.io/en/latest/docs/dict/keys.html)\n",
        "Retorna una lista de las llaves del diccionario."
      ],
      "metadata": {
        "id": "Lb0utNFGrZBY"
      }
    },
    {
      "cell_type": "code",
      "source": [
        "estudiante.keys()"
      ],
      "metadata": {
        "id": "eZo0biaM8ZVs",
        "outputId": "71976b98-44ed-49b8-d7d0-aa7870322aeb",
        "colab": {
          "base_uri": "https://localhost:8080/"
        }
      },
      "execution_count": 139,
      "outputs": [
        {
          "output_type": "execute_result",
          "data": {
            "text/plain": [
              "dict_keys(['matricula', 'dia_registro', 'mes_registro', 'modalidad'])"
            ]
          },
          "metadata": {},
          "execution_count": 139
        }
      ]
    },
    {
      "cell_type": "markdown",
      "source": [
        "#### [`values()`](https://python-reference.readthedocs.io/en/latest/docs/dict/values.html)\n",
        "Retorna una lista de los valores del diccionario."
      ],
      "metadata": {
        "id": "qKyu3bf9rbtX"
      }
    },
    {
      "cell_type": "code",
      "source": [
        "estudiante.values()"
      ],
      "metadata": {
        "id": "-NxRT9C18Yvo",
        "outputId": "d0423e1f-56cc-425a-c57f-b8157ae49b15",
        "colab": {
          "base_uri": "https://localhost:8080/"
        }
      },
      "execution_count": 141,
      "outputs": [
        {
          "output_type": "execute_result",
          "data": {
            "text/plain": [
              "dict_values([2000168933, 25, 10, 'EAD'])"
            ]
          },
          "metadata": {},
          "execution_count": 141
        }
      ]
    },
    {
      "cell_type": "markdown",
      "source": [
        "### Lectura de valores con el lazo `for`"
      ],
      "metadata": {
        "id": "e3XVjR8Frp75"
      }
    },
    {
      "cell_type": "code",
      "source": [
        "for llave in estudiante.keys():\n",
        "  print(llave)"
      ],
      "metadata": {
        "id": "NYcjU-Ip8Xan",
        "outputId": "6b5a0dfc-4f32-405e-a54b-ab48f9aaa0fd",
        "colab": {
          "base_uri": "https://localhost:8080/"
        }
      },
      "execution_count": 142,
      "outputs": [
        {
          "output_type": "stream",
          "name": "stdout",
          "text": [
            "matricula\n",
            "dia_registro\n",
            "mes_registro\n",
            "modalidad\n"
          ]
        }
      ]
    },
    {
      "cell_type": "code",
      "source": [
        "for llave,valor in estudiante.items():\n",
        "  print(llave, \"--->\",valor)"
      ],
      "metadata": {
        "id": "aAnpP1Wv8XfJ",
        "outputId": "4ed4f050-6f5a-4305-9895-fa0aaa5a8064",
        "colab": {
          "base_uri": "https://localhost:8080/"
        }
      },
      "execution_count": 145,
      "outputs": [
        {
          "output_type": "stream",
          "name": "stdout",
          "text": [
            "matricula ---> 2000168933\n",
            "dia_registro ---> 25\n",
            "mes_registro ---> 10\n",
            "modalidad ---> EAD\n"
          ]
        }
      ]
    },
    {
      "cell_type": "code",
      "source": [],
      "metadata": {
        "id": "tTh-gtyMGfDU"
      },
      "execution_count": null,
      "outputs": []
    }
  ]
}